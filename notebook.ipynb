{
 "cells": [
  {
   "cell_type": "markdown",
   "id": "90806700",
   "metadata": {},
   "source": [
    "**1/ download dataset**\n",
    "\n",
    "[yahoo finance](https://finance.yahoo.com/quote/MSFT/history/)"
   ]
  },
  {
   "cell_type": "code",
   "execution_count": 4,
   "id": "9de6fcaa",
   "metadata": {},
   "outputs": [],
   "source": [
    "import numpy as np\n",
    "import pandas as pd\n",
    "import datetime\n",
    "import matplotlib.pyplot as plt"
   ]
  },
  {
   "cell_type": "code",
   "execution_count": 5,
   "id": "7ed76ad4",
   "metadata": {},
   "outputs": [
    {
     "name": "stdout",
     "output_type": "stream",
     "text": [
      "(9137, 7)\n"
     ]
    },
    {
     "data": {
      "text/html": [
       "<div>\n",
       "<style scoped>\n",
       "    .dataframe tbody tr th:only-of-type {\n",
       "        vertical-align: middle;\n",
       "    }\n",
       "\n",
       "    .dataframe tbody tr th {\n",
       "        vertical-align: top;\n",
       "    }\n",
       "\n",
       "    .dataframe thead th {\n",
       "        text-align: right;\n",
       "    }\n",
       "</style>\n",
       "<table border=\"1\" class=\"dataframe\">\n",
       "  <thead>\n",
       "    <tr style=\"text-align: right;\">\n",
       "      <th></th>\n",
       "      <th>Date</th>\n",
       "      <th>Open</th>\n",
       "      <th>High</th>\n",
       "      <th>Low</th>\n",
       "      <th>Close</th>\n",
       "      <th>Adj Close</th>\n",
       "      <th>Volume</th>\n",
       "    </tr>\n",
       "  </thead>\n",
       "  <tbody>\n",
       "    <tr>\n",
       "      <th>0</th>\n",
       "      <td>1986-03-13</td>\n",
       "      <td>0.088542</td>\n",
       "      <td>0.101563</td>\n",
       "      <td>0.088542</td>\n",
       "      <td>0.097222</td>\n",
       "      <td>0.061109</td>\n",
       "      <td>1031788800</td>\n",
       "    </tr>\n",
       "    <tr>\n",
       "      <th>1</th>\n",
       "      <td>1986-03-14</td>\n",
       "      <td>0.097222</td>\n",
       "      <td>0.102431</td>\n",
       "      <td>0.097222</td>\n",
       "      <td>0.100694</td>\n",
       "      <td>0.063292</td>\n",
       "      <td>308160000</td>\n",
       "    </tr>\n",
       "    <tr>\n",
       "      <th>2</th>\n",
       "      <td>1986-03-17</td>\n",
       "      <td>0.100694</td>\n",
       "      <td>0.103299</td>\n",
       "      <td>0.100694</td>\n",
       "      <td>0.102431</td>\n",
       "      <td>0.064383</td>\n",
       "      <td>133171200</td>\n",
       "    </tr>\n",
       "    <tr>\n",
       "      <th>3</th>\n",
       "      <td>1986-03-18</td>\n",
       "      <td>0.102431</td>\n",
       "      <td>0.103299</td>\n",
       "      <td>0.098958</td>\n",
       "      <td>0.099826</td>\n",
       "      <td>0.062746</td>\n",
       "      <td>67766400</td>\n",
       "    </tr>\n",
       "    <tr>\n",
       "      <th>4</th>\n",
       "      <td>1986-03-19</td>\n",
       "      <td>0.099826</td>\n",
       "      <td>0.100694</td>\n",
       "      <td>0.097222</td>\n",
       "      <td>0.098090</td>\n",
       "      <td>0.061655</td>\n",
       "      <td>47894400</td>\n",
       "    </tr>\n",
       "  </tbody>\n",
       "</table>\n",
       "</div>"
      ],
      "text/plain": [
       "         Date      Open      High       Low     Close  Adj Close      Volume\n",
       "0  1986-03-13  0.088542  0.101563  0.088542  0.097222   0.061109  1031788800\n",
       "1  1986-03-14  0.097222  0.102431  0.097222  0.100694   0.063292   308160000\n",
       "2  1986-03-17  0.100694  0.103299  0.100694  0.102431   0.064383   133171200\n",
       "3  1986-03-18  0.102431  0.103299  0.098958  0.099826   0.062746    67766400\n",
       "4  1986-03-19  0.099826  0.100694  0.097222  0.098090   0.061655    47894400"
      ]
     },
     "execution_count": 5,
     "metadata": {},
     "output_type": "execute_result"
    }
   ],
   "source": [
    "df = pd.read_csv('./MSFT.csv')\n",
    "print(df.shape)\n",
    "df.head()"
   ]
  },
  {
   "cell_type": "markdown",
   "id": "667ada49",
   "metadata": {},
   "source": [
    "**2/ preprocessing data - visualization - EDA**"
   ]
  },
  {
   "cell_type": "code",
   "execution_count": 6,
   "id": "6a35c671",
   "metadata": {},
   "outputs": [
    {
     "data": {
      "text/html": [
       "<div>\n",
       "<style scoped>\n",
       "    .dataframe tbody tr th:only-of-type {\n",
       "        vertical-align: middle;\n",
       "    }\n",
       "\n",
       "    .dataframe tbody tr th {\n",
       "        vertical-align: top;\n",
       "    }\n",
       "\n",
       "    .dataframe thead th {\n",
       "        text-align: right;\n",
       "    }\n",
       "</style>\n",
       "<table border=\"1\" class=\"dataframe\">\n",
       "  <thead>\n",
       "    <tr style=\"text-align: right;\">\n",
       "      <th></th>\n",
       "      <th>Date</th>\n",
       "      <th>Close</th>\n",
       "    </tr>\n",
       "  </thead>\n",
       "  <tbody>\n",
       "    <tr>\n",
       "      <th>0</th>\n",
       "      <td>1986-03-13</td>\n",
       "      <td>0.097222</td>\n",
       "    </tr>\n",
       "    <tr>\n",
       "      <th>1</th>\n",
       "      <td>1986-03-14</td>\n",
       "      <td>0.100694</td>\n",
       "    </tr>\n",
       "    <tr>\n",
       "      <th>2</th>\n",
       "      <td>1986-03-17</td>\n",
       "      <td>0.102431</td>\n",
       "    </tr>\n",
       "    <tr>\n",
       "      <th>3</th>\n",
       "      <td>1986-03-18</td>\n",
       "      <td>0.099826</td>\n",
       "    </tr>\n",
       "    <tr>\n",
       "      <th>4</th>\n",
       "      <td>1986-03-19</td>\n",
       "      <td>0.098090</td>\n",
       "    </tr>\n",
       "    <tr>\n",
       "      <th>...</th>\n",
       "      <td>...</td>\n",
       "      <td>...</td>\n",
       "    </tr>\n",
       "    <tr>\n",
       "      <th>9132</th>\n",
       "      <td>2022-06-06</td>\n",
       "      <td>268.750000</td>\n",
       "    </tr>\n",
       "    <tr>\n",
       "      <th>9133</th>\n",
       "      <td>2022-06-07</td>\n",
       "      <td>272.500000</td>\n",
       "    </tr>\n",
       "    <tr>\n",
       "      <th>9134</th>\n",
       "      <td>2022-06-08</td>\n",
       "      <td>270.410004</td>\n",
       "    </tr>\n",
       "    <tr>\n",
       "      <th>9135</th>\n",
       "      <td>2022-06-09</td>\n",
       "      <td>264.790009</td>\n",
       "    </tr>\n",
       "    <tr>\n",
       "      <th>9136</th>\n",
       "      <td>2022-06-10</td>\n",
       "      <td>252.990005</td>\n",
       "    </tr>\n",
       "  </tbody>\n",
       "</table>\n",
       "<p>9137 rows × 2 columns</p>\n",
       "</div>"
      ],
      "text/plain": [
       "            Date       Close\n",
       "0     1986-03-13    0.097222\n",
       "1     1986-03-14    0.100694\n",
       "2     1986-03-17    0.102431\n",
       "3     1986-03-18    0.099826\n",
       "4     1986-03-19    0.098090\n",
       "...          ...         ...\n",
       "9132  2022-06-06  268.750000\n",
       "9133  2022-06-07  272.500000\n",
       "9134  2022-06-08  270.410004\n",
       "9135  2022-06-09  264.790009\n",
       "9136  2022-06-10  252.990005\n",
       "\n",
       "[9137 rows x 2 columns]"
      ]
     },
     "execution_count": 6,
     "metadata": {},
     "output_type": "execute_result"
    }
   ],
   "source": [
    "df[['Date','Close']]"
   ]
  },
  {
   "cell_type": "code",
   "execution_count": 7,
   "id": "c6c3df48",
   "metadata": {},
   "outputs": [
    {
     "data": {
      "text/plain": [
       "0       1986-03-13\n",
       "1       1986-03-14\n",
       "2       1986-03-17\n",
       "3       1986-03-18\n",
       "4       1986-03-19\n",
       "           ...    \n",
       "9132    2022-06-06\n",
       "9133    2022-06-07\n",
       "9134    2022-06-08\n",
       "9135    2022-06-09\n",
       "9136    2022-06-10\n",
       "Name: Date, Length: 9137, dtype: object"
      ]
     },
     "execution_count": 7,
     "metadata": {},
     "output_type": "execute_result"
    }
   ],
   "source": [
    "df['Date']"
   ]
  },
  {
   "cell_type": "code",
   "execution_count": 8,
   "id": "b17f71aa",
   "metadata": {},
   "outputs": [
    {
     "data": {
      "text/plain": [
       "['1986', '03', '13']"
      ]
     },
     "execution_count": 8,
     "metadata": {},
     "output_type": "execute_result"
    }
   ],
   "source": [
    "df['Date'][0].split('-')"
   ]
  },
  {
   "cell_type": "code",
   "execution_count": 9,
   "id": "c5a19234",
   "metadata": {},
   "outputs": [
    {
     "data": {
      "text/plain": [
       "datetime.datetime(1986, 3, 13, 0, 0)"
      ]
     },
     "execution_count": 9,
     "metadata": {},
     "output_type": "execute_result"
    }
   ],
   "source": [
    "def str_to_datetime(s):\n",
    "    '''\n",
    "    Convert string to datetime format\n",
    "    '''\n",
    "    split = s.split('-')\n",
    "    year,month,day = int(split[0]),int(split[1]),int(split[2])\n",
    "    return datetime.datetime(year= year,month=month, day=day)\n",
    "\n",
    "# test your function\n",
    "datetime_object = str_to_datetime(df['Date'][0])\n",
    "datetime_object"
   ]
  },
  {
   "cell_type": "code",
   "execution_count": 10,
   "id": "5cdf6d45",
   "metadata": {},
   "outputs": [
    {
     "data": {
      "text/html": [
       "<div>\n",
       "<style scoped>\n",
       "    .dataframe tbody tr th:only-of-type {\n",
       "        vertical-align: middle;\n",
       "    }\n",
       "\n",
       "    .dataframe tbody tr th {\n",
       "        vertical-align: top;\n",
       "    }\n",
       "\n",
       "    .dataframe thead th {\n",
       "        text-align: right;\n",
       "    }\n",
       "</style>\n",
       "<table border=\"1\" class=\"dataframe\">\n",
       "  <thead>\n",
       "    <tr style=\"text-align: right;\">\n",
       "      <th></th>\n",
       "      <th>Date</th>\n",
       "      <th>Open</th>\n",
       "      <th>High</th>\n",
       "      <th>Low</th>\n",
       "      <th>Close</th>\n",
       "      <th>Adj Close</th>\n",
       "      <th>Volume</th>\n",
       "    </tr>\n",
       "  </thead>\n",
       "  <tbody>\n",
       "    <tr>\n",
       "      <th>0</th>\n",
       "      <td>1986-03-13</td>\n",
       "      <td>0.088542</td>\n",
       "      <td>0.101563</td>\n",
       "      <td>0.088542</td>\n",
       "      <td>0.097222</td>\n",
       "      <td>0.061109</td>\n",
       "      <td>1031788800</td>\n",
       "    </tr>\n",
       "    <tr>\n",
       "      <th>1</th>\n",
       "      <td>1986-03-14</td>\n",
       "      <td>0.097222</td>\n",
       "      <td>0.102431</td>\n",
       "      <td>0.097222</td>\n",
       "      <td>0.100694</td>\n",
       "      <td>0.063292</td>\n",
       "      <td>308160000</td>\n",
       "    </tr>\n",
       "    <tr>\n",
       "      <th>2</th>\n",
       "      <td>1986-03-17</td>\n",
       "      <td>0.100694</td>\n",
       "      <td>0.103299</td>\n",
       "      <td>0.100694</td>\n",
       "      <td>0.102431</td>\n",
       "      <td>0.064383</td>\n",
       "      <td>133171200</td>\n",
       "    </tr>\n",
       "    <tr>\n",
       "      <th>3</th>\n",
       "      <td>1986-03-18</td>\n",
       "      <td>0.102431</td>\n",
       "      <td>0.103299</td>\n",
       "      <td>0.098958</td>\n",
       "      <td>0.099826</td>\n",
       "      <td>0.062746</td>\n",
       "      <td>67766400</td>\n",
       "    </tr>\n",
       "    <tr>\n",
       "      <th>4</th>\n",
       "      <td>1986-03-19</td>\n",
       "      <td>0.099826</td>\n",
       "      <td>0.100694</td>\n",
       "      <td>0.097222</td>\n",
       "      <td>0.098090</td>\n",
       "      <td>0.061655</td>\n",
       "      <td>47894400</td>\n",
       "    </tr>\n",
       "  </tbody>\n",
       "</table>\n",
       "</div>"
      ],
      "text/plain": [
       "        Date      Open      High       Low     Close  Adj Close      Volume\n",
       "0 1986-03-13  0.088542  0.101563  0.088542  0.097222   0.061109  1031788800\n",
       "1 1986-03-14  0.097222  0.102431  0.097222  0.100694   0.063292   308160000\n",
       "2 1986-03-17  0.100694  0.103299  0.100694  0.102431   0.064383   133171200\n",
       "3 1986-03-18  0.102431  0.103299  0.098958  0.099826   0.062746    67766400\n",
       "4 1986-03-19  0.099826  0.100694  0.097222  0.098090   0.061655    47894400"
      ]
     },
     "execution_count": 10,
     "metadata": {},
     "output_type": "execute_result"
    }
   ],
   "source": [
    "# apply the function to 'Date' column\n",
    "df['Date'] = df['Date'].apply(str_to_datetime)\n",
    "df.head()"
   ]
  },
  {
   "cell_type": "code",
   "execution_count": 11,
   "id": "fb30873b",
   "metadata": {},
   "outputs": [
    {
     "data": {
      "text/plain": [
       "0      1986-03-13\n",
       "1      1986-03-14\n",
       "2      1986-03-17\n",
       "3      1986-03-18\n",
       "4      1986-03-19\n",
       "          ...    \n",
       "9132   2022-06-06\n",
       "9133   2022-06-07\n",
       "9134   2022-06-08\n",
       "9135   2022-06-09\n",
       "9136   2022-06-10\n",
       "Name: Date, Length: 9137, dtype: datetime64[ns]"
      ]
     },
     "execution_count": 11,
     "metadata": {},
     "output_type": "execute_result"
    }
   ],
   "source": [
    "df['Date']"
   ]
  },
  {
   "cell_type": "code",
   "execution_count": 12,
   "id": "3db8329a",
   "metadata": {},
   "outputs": [],
   "source": [
    "# set the index is Date column\n",
    "df.index = df.pop('Date')"
   ]
  },
  {
   "cell_type": "code",
   "execution_count": 13,
   "id": "ccfe56a5",
   "metadata": {},
   "outputs": [
    {
     "data": {
      "text/html": [
       "<div>\n",
       "<style scoped>\n",
       "    .dataframe tbody tr th:only-of-type {\n",
       "        vertical-align: middle;\n",
       "    }\n",
       "\n",
       "    .dataframe tbody tr th {\n",
       "        vertical-align: top;\n",
       "    }\n",
       "\n",
       "    .dataframe thead th {\n",
       "        text-align: right;\n",
       "    }\n",
       "</style>\n",
       "<table border=\"1\" class=\"dataframe\">\n",
       "  <thead>\n",
       "    <tr style=\"text-align: right;\">\n",
       "      <th></th>\n",
       "      <th>Open</th>\n",
       "      <th>High</th>\n",
       "      <th>Low</th>\n",
       "      <th>Close</th>\n",
       "      <th>Adj Close</th>\n",
       "      <th>Volume</th>\n",
       "    </tr>\n",
       "    <tr>\n",
       "      <th>Date</th>\n",
       "      <th></th>\n",
       "      <th></th>\n",
       "      <th></th>\n",
       "      <th></th>\n",
       "      <th></th>\n",
       "      <th></th>\n",
       "    </tr>\n",
       "  </thead>\n",
       "  <tbody>\n",
       "    <tr>\n",
       "      <th>1986-03-13</th>\n",
       "      <td>0.088542</td>\n",
       "      <td>0.101563</td>\n",
       "      <td>0.088542</td>\n",
       "      <td>0.097222</td>\n",
       "      <td>0.061109</td>\n",
       "      <td>1031788800</td>\n",
       "    </tr>\n",
       "    <tr>\n",
       "      <th>1986-03-14</th>\n",
       "      <td>0.097222</td>\n",
       "      <td>0.102431</td>\n",
       "      <td>0.097222</td>\n",
       "      <td>0.100694</td>\n",
       "      <td>0.063292</td>\n",
       "      <td>308160000</td>\n",
       "    </tr>\n",
       "    <tr>\n",
       "      <th>1986-03-17</th>\n",
       "      <td>0.100694</td>\n",
       "      <td>0.103299</td>\n",
       "      <td>0.100694</td>\n",
       "      <td>0.102431</td>\n",
       "      <td>0.064383</td>\n",
       "      <td>133171200</td>\n",
       "    </tr>\n",
       "    <tr>\n",
       "      <th>1986-03-18</th>\n",
       "      <td>0.102431</td>\n",
       "      <td>0.103299</td>\n",
       "      <td>0.098958</td>\n",
       "      <td>0.099826</td>\n",
       "      <td>0.062746</td>\n",
       "      <td>67766400</td>\n",
       "    </tr>\n",
       "    <tr>\n",
       "      <th>1986-03-19</th>\n",
       "      <td>0.099826</td>\n",
       "      <td>0.100694</td>\n",
       "      <td>0.097222</td>\n",
       "      <td>0.098090</td>\n",
       "      <td>0.061655</td>\n",
       "      <td>47894400</td>\n",
       "    </tr>\n",
       "    <tr>\n",
       "      <th>...</th>\n",
       "      <td>...</td>\n",
       "      <td>...</td>\n",
       "      <td>...</td>\n",
       "      <td>...</td>\n",
       "      <td>...</td>\n",
       "      <td>...</td>\n",
       "    </tr>\n",
       "    <tr>\n",
       "      <th>2022-06-06</th>\n",
       "      <td>272.059998</td>\n",
       "      <td>274.179993</td>\n",
       "      <td>267.220001</td>\n",
       "      <td>268.750000</td>\n",
       "      <td>268.750000</td>\n",
       "      <td>22400300</td>\n",
       "    </tr>\n",
       "    <tr>\n",
       "      <th>2022-06-07</th>\n",
       "      <td>266.640015</td>\n",
       "      <td>273.130005</td>\n",
       "      <td>265.940002</td>\n",
       "      <td>272.500000</td>\n",
       "      <td>272.500000</td>\n",
       "      <td>22860700</td>\n",
       "    </tr>\n",
       "    <tr>\n",
       "      <th>2022-06-08</th>\n",
       "      <td>271.709991</td>\n",
       "      <td>273.000000</td>\n",
       "      <td>269.609985</td>\n",
       "      <td>270.410004</td>\n",
       "      <td>270.410004</td>\n",
       "      <td>17372300</td>\n",
       "    </tr>\n",
       "    <tr>\n",
       "      <th>2022-06-09</th>\n",
       "      <td>267.779999</td>\n",
       "      <td>272.709991</td>\n",
       "      <td>264.630005</td>\n",
       "      <td>264.790009</td>\n",
       "      <td>264.790009</td>\n",
       "      <td>26439700</td>\n",
       "    </tr>\n",
       "    <tr>\n",
       "      <th>2022-06-10</th>\n",
       "      <td>260.579987</td>\n",
       "      <td>260.579987</td>\n",
       "      <td>252.529999</td>\n",
       "      <td>252.990005</td>\n",
       "      <td>252.990005</td>\n",
       "      <td>31422800</td>\n",
       "    </tr>\n",
       "  </tbody>\n",
       "</table>\n",
       "<p>9137 rows × 6 columns</p>\n",
       "</div>"
      ],
      "text/plain": [
       "                  Open        High         Low       Close   Adj Close  \\\n",
       "Date                                                                     \n",
       "1986-03-13    0.088542    0.101563    0.088542    0.097222    0.061109   \n",
       "1986-03-14    0.097222    0.102431    0.097222    0.100694    0.063292   \n",
       "1986-03-17    0.100694    0.103299    0.100694    0.102431    0.064383   \n",
       "1986-03-18    0.102431    0.103299    0.098958    0.099826    0.062746   \n",
       "1986-03-19    0.099826    0.100694    0.097222    0.098090    0.061655   \n",
       "...                ...         ...         ...         ...         ...   \n",
       "2022-06-06  272.059998  274.179993  267.220001  268.750000  268.750000   \n",
       "2022-06-07  266.640015  273.130005  265.940002  272.500000  272.500000   \n",
       "2022-06-08  271.709991  273.000000  269.609985  270.410004  270.410004   \n",
       "2022-06-09  267.779999  272.709991  264.630005  264.790009  264.790009   \n",
       "2022-06-10  260.579987  260.579987  252.529999  252.990005  252.990005   \n",
       "\n",
       "                Volume  \n",
       "Date                    \n",
       "1986-03-13  1031788800  \n",
       "1986-03-14   308160000  \n",
       "1986-03-17   133171200  \n",
       "1986-03-18    67766400  \n",
       "1986-03-19    47894400  \n",
       "...                ...  \n",
       "2022-06-06    22400300  \n",
       "2022-06-07    22860700  \n",
       "2022-06-08    17372300  \n",
       "2022-06-09    26439700  \n",
       "2022-06-10    31422800  \n",
       "\n",
       "[9137 rows x 6 columns]"
      ]
     },
     "execution_count": 13,
     "metadata": {},
     "output_type": "execute_result"
    }
   ],
   "source": [
    "df"
   ]
  },
  {
   "cell_type": "code",
   "execution_count": 28,
   "id": "3a4e07f5",
   "metadata": {},
   "outputs": [
    {
     "data": {
      "image/png": "[encoded data removed]",
      "text/plain": [
       "<Figure size 1080x432 with 1 Axes>"
      ]
     },
     "metadata": {
      "needs_background": "light"
     },
     "output_type": "display_data"
    }
   ],
   "source": [
    "# plot\n",
    "plt.figure(figsize = (15,6))\n",
    "plt.plot(df.index,df['Open'],label = 'Open')\n",
    "plt.plot(df.index,df['Close'],label = 'Close')\n",
    "plt.plot(df.index,df['High'],label = 'High')\n",
    "plt.plot(df.index,df['Low'],label = 'Low')\n",
    "plt.legend()\n",
    "plt.title('stock-price')\n",
    "plt.savefig('./imgs/MSFT-stock-price.png')\n",
    "plt.show()"
   ]
  },
  {
   "cell_type": "code",
   "execution_count": 29,
   "id": "7f825022",
   "metadata": {},
   "outputs": [
    {
     "data": {
      "image/png": "[encoded data removed]",
      "text/plain": [
       "<Figure size 1080x432 with 1 Axes>"
      ]
     },
     "metadata": {
      "needs_background": "light"
     },
     "output_type": "display_data"
    }
   ],
   "source": [
    "plt.figure(figsize = (15,6))\n",
    "plt.plot(df.index,df['Volume'],label = 'Volume')\n",
    "plt.legend()\n",
    "plt.title('stock-volume')\n",
    "plt.savefig('./imgs/MSFT-stock-volume.png')\n",
    "plt.show()"
   ]
  },
  {
   "cell_type": "markdown",
   "id": "349ba017",
   "metadata": {},
   "source": [
    "We will forcus on 'Close' price"
   ]
  },
  {
   "cell_type": "code",
   "execution_count": 32,
   "id": "b35389a4",
   "metadata": {},
   "outputs": [
    {
     "data": {
      "text/plain": [
       "count    9137.000000\n",
       "mean       42.741320\n",
       "std        62.281374\n",
       "min         0.090278\n",
       "25%         4.414063\n",
       "50%        26.879999\n",
       "75%        40.468750\n",
       "max       343.109985\n",
       "Name: Close, dtype: float64"
      ]
     },
     "execution_count": 32,
     "metadata": {},
     "output_type": "execute_result"
    }
   ],
   "source": [
    "df['Close'].describe()"
   ]
  },
  {
   "cell_type": "code",
   "execution_count": 33,
   "id": "44610781",
   "metadata": {},
   "outputs": [
    {
     "data": {
      "text/html": [
       "<div>\n",
       "<style scoped>\n",
       "    .dataframe tbody tr th:only-of-type {\n",
       "        vertical-align: middle;\n",
       "    }\n",
       "\n",
       "    .dataframe tbody tr th {\n",
       "        vertical-align: top;\n",
       "    }\n",
       "\n",
       "    .dataframe thead th {\n",
       "        text-align: right;\n",
       "    }\n",
       "</style>\n",
       "<table border=\"1\" class=\"dataframe\">\n",
       "  <thead>\n",
       "    <tr style=\"text-align: right;\">\n",
       "      <th></th>\n",
       "      <th>Open</th>\n",
       "      <th>High</th>\n",
       "      <th>Low</th>\n",
       "      <th>Close</th>\n",
       "      <th>Adj Close</th>\n",
       "      <th>Volume</th>\n",
       "    </tr>\n",
       "    <tr>\n",
       "      <th>Date</th>\n",
       "      <th></th>\n",
       "      <th></th>\n",
       "      <th></th>\n",
       "      <th></th>\n",
       "      <th></th>\n",
       "      <th></th>\n",
       "    </tr>\n",
       "  </thead>\n",
       "  <tbody>\n",
       "    <tr>\n",
       "      <th>2013-01-29</th>\n",
       "      <td>27.820000</td>\n",
       "      <td>28.129999</td>\n",
       "      <td>27.600000</td>\n",
       "      <td>28.010000</td>\n",
       "      <td>23.210518</td>\n",
       "      <td>49242600</td>\n",
       "    </tr>\n",
       "    <tr>\n",
       "      <th>2013-01-30</th>\n",
       "      <td>28.010000</td>\n",
       "      <td>28.190001</td>\n",
       "      <td>27.760000</td>\n",
       "      <td>27.850000</td>\n",
       "      <td>23.077932</td>\n",
       "      <td>43580500</td>\n",
       "    </tr>\n",
       "    <tr>\n",
       "      <th>2013-01-31</th>\n",
       "      <td>27.790001</td>\n",
       "      <td>27.969999</td>\n",
       "      <td>27.400000</td>\n",
       "      <td>27.450001</td>\n",
       "      <td>22.746473</td>\n",
       "      <td>50530000</td>\n",
       "    </tr>\n",
       "    <tr>\n",
       "      <th>2013-02-01</th>\n",
       "      <td>27.670000</td>\n",
       "      <td>28.049999</td>\n",
       "      <td>27.549999</td>\n",
       "      <td>27.930000</td>\n",
       "      <td>23.144222</td>\n",
       "      <td>55565900</td>\n",
       "    </tr>\n",
       "  </tbody>\n",
       "</table>\n",
       "</div>"
      ],
      "text/plain": [
       "                 Open       High        Low      Close  Adj Close    Volume\n",
       "Date                                                                       \n",
       "2013-01-29  27.820000  28.129999  27.600000  28.010000  23.210518  49242600\n",
       "2013-01-30  28.010000  28.190001  27.760000  27.850000  23.077932  43580500\n",
       "2013-01-31  27.790001  27.969999  27.400000  27.450001  22.746473  50530000\n",
       "2013-02-01  27.670000  28.049999  27.549999  27.930000  23.144222  55565900"
      ]
     },
     "execution_count": 33,
     "metadata": {},
     "output_type": "execute_result"
    }
   ],
   "source": [
    "df_subset = df.loc[:str_to_datetime('2013-2-01')].tail(3+1)\n",
    "df_subset"
   ]
  },
  {
   "cell_type": "code",
   "execution_count": 34,
   "id": "28f3e67b",
   "metadata": {},
   "outputs": [
    {
     "name": "stdout",
     "output_type": "stream",
     "text": [
      "[28.01     27.85     27.450001]\n",
      "27.93\n"
     ]
    }
   ],
   "source": [
    "values = df_subset['Close'].to_numpy()\n",
    "x,y = values[:-1],values[-1]\n",
    "print(x)\n",
    "print(y)"
   ]
  },
  {
   "cell_type": "code",
   "execution_count": 35,
   "id": "647b491d",
   "metadata": {},
   "outputs": [
    {
     "data": {
      "text/html": [
       "<div>\n",
       "<style scoped>\n",
       "    .dataframe tbody tr th:only-of-type {\n",
       "        vertical-align: middle;\n",
       "    }\n",
       "\n",
       "    .dataframe tbody tr th {\n",
       "        vertical-align: top;\n",
       "    }\n",
       "\n",
       "    .dataframe thead th {\n",
       "        text-align: right;\n",
       "    }\n",
       "</style>\n",
       "<table border=\"1\" class=\"dataframe\">\n",
       "  <thead>\n",
       "    <tr style=\"text-align: right;\">\n",
       "      <th></th>\n",
       "      <th>Open</th>\n",
       "      <th>High</th>\n",
       "      <th>Low</th>\n",
       "      <th>Close</th>\n",
       "      <th>Adj Close</th>\n",
       "      <th>Volume</th>\n",
       "    </tr>\n",
       "    <tr>\n",
       "      <th>Date</th>\n",
       "      <th></th>\n",
       "      <th></th>\n",
       "      <th></th>\n",
       "      <th></th>\n",
       "      <th></th>\n",
       "      <th></th>\n",
       "    </tr>\n",
       "  </thead>\n",
       "  <tbody>\n",
       "    <tr>\n",
       "      <th>2013-02-01</th>\n",
       "      <td>27.670000</td>\n",
       "      <td>28.049999</td>\n",
       "      <td>27.549999</td>\n",
       "      <td>27.930000</td>\n",
       "      <td>23.144222</td>\n",
       "      <td>55565900</td>\n",
       "    </tr>\n",
       "    <tr>\n",
       "      <th>2013-02-04</th>\n",
       "      <td>27.870001</td>\n",
       "      <td>28.020000</td>\n",
       "      <td>27.420000</td>\n",
       "      <td>27.440001</td>\n",
       "      <td>22.738192</td>\n",
       "      <td>50540000</td>\n",
       "    </tr>\n",
       "    <tr>\n",
       "      <th>2013-02-05</th>\n",
       "      <td>27.620001</td>\n",
       "      <td>27.660000</td>\n",
       "      <td>27.360001</td>\n",
       "      <td>27.500000</td>\n",
       "      <td>22.787907</td>\n",
       "      <td>35410400</td>\n",
       "    </tr>\n",
       "    <tr>\n",
       "      <th>2013-02-06</th>\n",
       "      <td>27.379999</td>\n",
       "      <td>27.540001</td>\n",
       "      <td>27.250000</td>\n",
       "      <td>27.340000</td>\n",
       "      <td>22.655325</td>\n",
       "      <td>41889600</td>\n",
       "    </tr>\n",
       "    <tr>\n",
       "      <th>2013-02-07</th>\n",
       "      <td>27.350000</td>\n",
       "      <td>27.389999</td>\n",
       "      <td>27.100000</td>\n",
       "      <td>27.280001</td>\n",
       "      <td>22.605606</td>\n",
       "      <td>38028300</td>\n",
       "    </tr>\n",
       "    <tr>\n",
       "      <th>2013-02-08</th>\n",
       "      <td>27.350000</td>\n",
       "      <td>27.709999</td>\n",
       "      <td>27.309999</td>\n",
       "      <td>27.549999</td>\n",
       "      <td>22.829334</td>\n",
       "      <td>33318500</td>\n",
       "    </tr>\n",
       "  </tbody>\n",
       "</table>\n",
       "</div>"
      ],
      "text/plain": [
       "                 Open       High        Low      Close  Adj Close    Volume\n",
       "Date                                                                       \n",
       "2013-02-01  27.670000  28.049999  27.549999  27.930000  23.144222  55565900\n",
       "2013-02-04  27.870001  28.020000  27.420000  27.440001  22.738192  50540000\n",
       "2013-02-05  27.620001  27.660000  27.360001  27.500000  22.787907  35410400\n",
       "2013-02-06  27.379999  27.540001  27.250000  27.340000  22.655325  41889600\n",
       "2013-02-07  27.350000  27.389999  27.100000  27.280001  22.605606  38028300\n",
       "2013-02-08  27.350000  27.709999  27.309999  27.549999  22.829334  33318500"
      ]
     },
     "execution_count": 35,
     "metadata": {},
     "output_type": "execute_result"
    }
   ],
   "source": [
    "next_week = df.loc[str_to_datetime('2013-2-01'):str_to_datetime('2013-2-01')+datetime.timedelta(days = 7)]\n",
    "next_week"
   ]
  },
  {
   "cell_type": "code",
   "execution_count": 36,
   "id": "53465070",
   "metadata": {},
   "outputs": [
    {
     "name": "stdout",
     "output_type": "stream",
     "text": [
      "2013-02-04T00:00:00.000000000\n"
     ]
    }
   ],
   "source": [
    "next_datetime_str = str(next_week.head(2).tail(1).index.values[0])\n",
    "print(next_datetime_str)"
   ]
  },
  {
   "cell_type": "code",
   "execution_count": 37,
   "id": "56004179",
   "metadata": {},
   "outputs": [
    {
     "data": {
      "text/plain": [
       "'2013-02-04'"
      ]
     },
     "execution_count": 37,
     "metadata": {},
     "output_type": "execute_result"
    }
   ],
   "source": [
    "next_date_str = next_datetime_str.split('T')[0]\n",
    "next_date_str"
   ]
  },
  {
   "cell_type": "code",
   "execution_count": 38,
   "id": "7c07f643",
   "metadata": {},
   "outputs": [
    {
     "data": {
      "text/plain": [
       "['2013', '02', '04']"
      ]
     },
     "execution_count": 38,
     "metadata": {},
     "output_type": "execute_result"
    }
   ],
   "source": [
    "year_month_day = next_date_str.split('-')\n",
    "year_month_day"
   ]
  },
  {
   "cell_type": "code",
   "execution_count": 39,
   "id": "049f8d3d",
   "metadata": {},
   "outputs": [
    {
     "data": {
      "text/html": [
       "<div>\n",
       "<style scoped>\n",
       "    .dataframe tbody tr th:only-of-type {\n",
       "        vertical-align: middle;\n",
       "    }\n",
       "\n",
       "    .dataframe tbody tr th {\n",
       "        vertical-align: top;\n",
       "    }\n",
       "\n",
       "    .dataframe thead th {\n",
       "        text-align: right;\n",
       "    }\n",
       "</style>\n",
       "<table border=\"1\" class=\"dataframe\">\n",
       "  <thead>\n",
       "    <tr style=\"text-align: right;\">\n",
       "      <th></th>\n",
       "      <th>Target Date</th>\n",
       "      <th>Target-2</th>\n",
       "      <th>Target</th>\n",
       "    </tr>\n",
       "  </thead>\n",
       "  <tbody>\n",
       "    <tr>\n",
       "      <th>0</th>\n",
       "      <td>2021-03-25</td>\n",
       "      <td>235.460007</td>\n",
       "      <td>[[[[[...]]]]]</td>\n",
       "    </tr>\n",
       "  </tbody>\n",
       "</table>\n",
       "</div>"
      ],
      "text/plain": [
       "  Target Date    Target-2         Target\n",
       "0  2021-03-25  235.460007  [[[[[...]]]]]"
      ]
     },
     "execution_count": 39,
     "metadata": {},
     "output_type": "execute_result"
    }
   ],
   "source": [
    "def df_to_windowed_df(dataframe,first_date_str,last_date_str,n =3):\n",
    "    '''\n",
    "    create a sub-dataframe from a start-time back to n previous samples\n",
    "    '''\n",
    "    first_date = str_to_datetime(first_date_str)\n",
    "    last_date = str_to_datetime(last_date_str)\n",
    "    target_date = first_date\n",
    "    dates = []\n",
    "    X,Y = [],[]\n",
    "    last_time = False\n",
    "    while True:\n",
    "        df_subset = dataframe.loc[:target_date].tail(n+1) # go back from target-date n samples\n",
    "        \n",
    "        if len(df_subset) != n+1:\n",
    "            print(f'Error: Window of size {n} is too large for date {target_date}')\n",
    "            return None\n",
    "        \n",
    "        values = df_subset['Close'].to_numpy()\n",
    "        x,y = values[:-1],values[-1]\n",
    "        \n",
    "        dates.append(target_date)\n",
    "        X.append(x)\n",
    "        Y.append(Y)\n",
    "        \n",
    "        nex_week = dataframe.loc[target_date:target_date+datetime.timedelta(days = 7)]\n",
    "        next_datetime_str = str(next_week.head(2).tail(1).index.values[0])\n",
    "        next_date_str = next_datetime_str.split('T')[0]\n",
    "        year_month_day = next_date_str.split('-')\n",
    "        year,month,day = year_month_day\n",
    "        next_date = datetime.datetime(year = int(year),month =int(month),day = int(day))\n",
    "        \n",
    "        if last_time:\n",
    "            break\n",
    "        \n",
    "        target_date = last_date\n",
    "        \n",
    "        if target_date == last_date:\n",
    "            last_date = True\n",
    "            \n",
    "        ret_df = pd.DataFrame({})\n",
    "        ret_df['Target Date'] = dates\n",
    "        \n",
    "        X = np.array(X)\n",
    "        for i in range(n):\n",
    "            X[:,i]\n",
    "            ret_df[f'Target-{n-1}'] = X[:,i]\n",
    "        ret_df['Target'] = Y\n",
    "        \n",
    "        return ret_df\n",
    "    \n",
    "# Start day second time arounf '2021-03-05'\n",
    "\n",
    "windowed_df = df_to_windowed_df(df,'2021-03-25','2022-05-23',n =3)\n",
    "\n",
    "windowed_df"
   ]
  },
  {
   "cell_type": "markdown",
   "id": "17392ea6",
   "metadata": {},
   "source": [
    "**4/ build model**"
   ]
  },
  {
   "cell_type": "markdown",
   "id": "28d38ac5",
   "metadata": {},
   "source": [
    "**5/ train model**"
   ]
  },
  {
   "cell_type": "markdown",
   "id": "6c97e824",
   "metadata": {},
   "source": [
    "**6/ evaluate model**"
   ]
  },
  {
   "cell_type": "markdown",
   "id": "c435866c",
   "metadata": {},
   "source": [
    "**7/ save and load model**"
   ]
  },
  {
   "cell_type": "markdown",
   "id": "a078d985",
   "metadata": {},
   "source": [
    "**8/ predict new-input**"
   ]
  }
 ],
 "metadata": {
  "kernelspec": {
   "display_name": "Python 3",
   "language": "python",
   "name": "python3"
  },
  "language_info": {
   "codemirror_mode": {
    "name": "ipython",
    "version": 3
   },
   "file_extension": ".py",
   "mimetype": "text/x-python",
   "name": "python",
   "nbconvert_exporter": "python",
   "pygments_lexer": "ipython3",
   "version": "3.8.8"
  }
 },
 "nbformat": 4,
 "nbformat_minor": 5
}
