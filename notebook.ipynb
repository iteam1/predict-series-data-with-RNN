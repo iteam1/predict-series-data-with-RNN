{
 "cells": [
  {
   "cell_type": "markdown",
   "id": "90806700",
   "metadata": {},
   "source": [
    "**1/ download dataset**\n",
    "\n",
    "[yahoo finance](https://finance.yahoo.com/quote/MSFT/history/)"
   ]
  },
  {
   "cell_type": "markdown",
   "id": "04251cbb",
   "metadata": {},
   "source": [
    "**2/ preprocessing data**"
   ]
  },
  {
   "cell_type": "markdown",
   "id": "17392ea6",
   "metadata": {},
   "source": [
    "**3/ build model**"
   ]
  },
  {
   "cell_type": "markdown",
   "id": "28d38ac5",
   "metadata": {},
   "source": [
    "**4/ train model**"
   ]
  },
  {
   "cell_type": "markdown",
   "id": "6c97e824",
   "metadata": {},
   "source": [
    "**5/ evaluate model**"
   ]
  },
  {
   "cell_type": "markdown",
   "id": "c435866c",
   "metadata": {},
   "source": [
    "**7/ save and load model**"
   ]
  },
  {
   "cell_type": "markdown",
   "id": "a078d985",
   "metadata": {},
   "source": [
    "**8/ predict new-input**"
   ]
  }
 ],
 "metadata": {
  "kernelspec": {
   "display_name": "Python 3",
   "language": "python",
   "name": "python3"
  },
  "language_info": {
   "codemirror_mode": {
    "name": "ipython",
    "version": 3
   },
   "file_extension": ".py",
   "mimetype": "text/x-python",
   "name": "python",
   "nbconvert_exporter": "python",
   "pygments_lexer": "ipython3",
   "version": "3.8.8"
  }
 },
 "nbformat": 4,
 "nbformat_minor": 5
}
