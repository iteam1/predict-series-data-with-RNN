{
 "cells": [
  {
   "cell_type": "markdown",
   "id": "90806700",
   "metadata": {},
   "source": [
    "**1/ download dataset**\n",
    "\n",
    "[yahoo finance](https://finance.yahoo.com/quote/MSFT/history/)"
   ]
  },
  {
   "cell_type": "code",
   "execution_count": 1,
   "id": "9de6fcaa",
   "metadata": {},
   "outputs": [],
   "source": [
    "import numpy as np\n",
    "import pandas as pd\n",
    "import datetime\n",
    "import matplotlib.pyplot as plt"
   ]
  },
  {
   "cell_type": "code",
   "execution_count": 2,
   "id": "7ed76ad4",
   "metadata": {},
   "outputs": [
    {
     "name": "stdout",
     "output_type": "stream",
     "text": [
      "(9137, 7)\n"
     ]
    },
    {
     "data": {
      "text/html": [
       "<div>\n",
       "<style scoped>\n",
       "    .dataframe tbody tr th:only-of-type {\n",
       "        vertical-align: middle;\n",
       "    }\n",
       "\n",
       "    .dataframe tbody tr th {\n",
       "        vertical-align: top;\n",
       "    }\n",
       "\n",
       "    .dataframe thead th {\n",
       "        text-align: right;\n",
       "    }\n",
       "</style>\n",
       "<table border=\"1\" class=\"dataframe\">\n",
       "  <thead>\n",
       "    <tr style=\"text-align: right;\">\n",
       "      <th></th>\n",
       "      <th>Date</th>\n",
       "      <th>Open</th>\n",
       "      <th>High</th>\n",
       "      <th>Low</th>\n",
       "      <th>Close</th>\n",
       "      <th>Adj Close</th>\n",
       "      <th>Volume</th>\n",
       "    </tr>\n",
       "  </thead>\n",
       "  <tbody>\n",
       "    <tr>\n",
       "      <th>0</th>\n",
       "      <td>1986-03-13</td>\n",
       "      <td>0.088542</td>\n",
       "      <td>0.101563</td>\n",
       "      <td>0.088542</td>\n",
       "      <td>0.097222</td>\n",
       "      <td>0.061109</td>\n",
       "      <td>1031788800</td>\n",
       "    </tr>\n",
       "    <tr>\n",
       "      <th>1</th>\n",
       "      <td>1986-03-14</td>\n",
       "      <td>0.097222</td>\n",
       "      <td>0.102431</td>\n",
       "      <td>0.097222</td>\n",
       "      <td>0.100694</td>\n",
       "      <td>0.063292</td>\n",
       "      <td>308160000</td>\n",
       "    </tr>\n",
       "    <tr>\n",
       "      <th>2</th>\n",
       "      <td>1986-03-17</td>\n",
       "      <td>0.100694</td>\n",
       "      <td>0.103299</td>\n",
       "      <td>0.100694</td>\n",
       "      <td>0.102431</td>\n",
       "      <td>0.064383</td>\n",
       "      <td>133171200</td>\n",
       "    </tr>\n",
       "    <tr>\n",
       "      <th>3</th>\n",
       "      <td>1986-03-18</td>\n",
       "      <td>0.102431</td>\n",
       "      <td>0.103299</td>\n",
       "      <td>0.098958</td>\n",
       "      <td>0.099826</td>\n",
       "      <td>0.062746</td>\n",
       "      <td>67766400</td>\n",
       "    </tr>\n",
       "    <tr>\n",
       "      <th>4</th>\n",
       "      <td>1986-03-19</td>\n",
       "      <td>0.099826</td>\n",
       "      <td>0.100694</td>\n",
       "      <td>0.097222</td>\n",
       "      <td>0.098090</td>\n",
       "      <td>0.061655</td>\n",
       "      <td>47894400</td>\n",
       "    </tr>\n",
       "  </tbody>\n",
       "</table>\n",
       "</div>"
      ],
      "text/plain": [
       "         Date      Open      High       Low     Close  Adj Close      Volume\n",
       "0  1986-03-13  0.088542  0.101563  0.088542  0.097222   0.061109  1031788800\n",
       "1  1986-03-14  0.097222  0.102431  0.097222  0.100694   0.063292   308160000\n",
       "2  1986-03-17  0.100694  0.103299  0.100694  0.102431   0.064383   133171200\n",
       "3  1986-03-18  0.102431  0.103299  0.098958  0.099826   0.062746    67766400\n",
       "4  1986-03-19  0.099826  0.100694  0.097222  0.098090   0.061655    47894400"
      ]
     },
     "execution_count": 2,
     "metadata": {},
     "output_type": "execute_result"
    }
   ],
   "source": [
    "df = pd.read_csv('./MSFT.csv')\n",
    "print(df.shape)\n",
    "df.head()"
   ]
  },
  {
   "cell_type": "markdown",
   "id": "667ada49",
   "metadata": {},
   "source": [
    "**2/ preprocessing data - visualization - EDA**"
   ]
  },
  {
   "cell_type": "code",
   "execution_count": 3,
   "id": "c6c3df48",
   "metadata": {},
   "outputs": [
    {
     "data": {
      "text/plain": [
       "0       1986-03-13\n",
       "1       1986-03-14\n",
       "2       1986-03-17\n",
       "3       1986-03-18\n",
       "4       1986-03-19\n",
       "           ...    \n",
       "9132    2022-06-06\n",
       "9133    2022-06-07\n",
       "9134    2022-06-08\n",
       "9135    2022-06-09\n",
       "9136    2022-06-10\n",
       "Name: Date, Length: 9137, dtype: object"
      ]
     },
     "execution_count": 3,
     "metadata": {},
     "output_type": "execute_result"
    }
   ],
   "source": [
    "df1 = df.copy()\n",
    "df1 = df1[['Date','Close']]\n",
    "df1['Date']"
   ]
  },
  {
   "cell_type": "code",
   "execution_count": 4,
   "id": "b17f71aa",
   "metadata": {},
   "outputs": [
    {
     "data": {
      "text/plain": [
       "['1986', '03', '13']"
      ]
     },
     "execution_count": 4,
     "metadata": {},
     "output_type": "execute_result"
    }
   ],
   "source": [
    "df1['Date'][0].split('-')"
   ]
  },
  {
   "cell_type": "code",
   "execution_count": 5,
   "id": "c5a19234",
   "metadata": {},
   "outputs": [
    {
     "data": {
      "text/plain": [
       "datetime.datetime(1986, 3, 13, 0, 0)"
      ]
     },
     "execution_count": 5,
     "metadata": {},
     "output_type": "execute_result"
    }
   ],
   "source": [
    "def str_to_datetime(s):\n",
    "    '''\n",
    "    Convert string to datetime format\n",
    "    '''\n",
    "    split = s.split('-')\n",
    "    year,month,day = int(split[0]),int(split[1]),int(split[2])\n",
    "    return datetime.datetime(year= year,month=month, day=day)\n",
    "\n",
    "# test your function\n",
    "datetime_object = str_to_datetime(df1['Date'][0])\n",
    "datetime_object"
   ]
  },
  {
   "cell_type": "code",
   "execution_count": 6,
   "id": "5cdf6d45",
   "metadata": {},
   "outputs": [
    {
     "data": {
      "text/plain": [
       "0      1986-03-13\n",
       "1      1986-03-14\n",
       "2      1986-03-17\n",
       "3      1986-03-18\n",
       "4      1986-03-19\n",
       "          ...    \n",
       "9132   2022-06-06\n",
       "9133   2022-06-07\n",
       "9134   2022-06-08\n",
       "9135   2022-06-09\n",
       "9136   2022-06-10\n",
       "Name: Date, Length: 9137, dtype: datetime64[ns]"
      ]
     },
     "execution_count": 6,
     "metadata": {},
     "output_type": "execute_result"
    }
   ],
   "source": [
    "# apply the function to 'Date' column\n",
    "df1['Date'] = df1['Date'].apply(str_to_datetime)\n",
    "df1['Date']"
   ]
  },
  {
   "cell_type": "code",
   "execution_count": 7,
   "id": "3db8329a",
   "metadata": {},
   "outputs": [
    {
     "data": {
      "text/html": [
       "<div>\n",
       "<style scoped>\n",
       "    .dataframe tbody tr th:only-of-type {\n",
       "        vertical-align: middle;\n",
       "    }\n",
       "\n",
       "    .dataframe tbody tr th {\n",
       "        vertical-align: top;\n",
       "    }\n",
       "\n",
       "    .dataframe thead th {\n",
       "        text-align: right;\n",
       "    }\n",
       "</style>\n",
       "<table border=\"1\" class=\"dataframe\">\n",
       "  <thead>\n",
       "    <tr style=\"text-align: right;\">\n",
       "      <th></th>\n",
       "      <th>Close</th>\n",
       "    </tr>\n",
       "    <tr>\n",
       "      <th>Date</th>\n",
       "      <th></th>\n",
       "    </tr>\n",
       "  </thead>\n",
       "  <tbody>\n",
       "    <tr>\n",
       "      <th>1986-03-13</th>\n",
       "      <td>0.097222</td>\n",
       "    </tr>\n",
       "    <tr>\n",
       "      <th>1986-03-14</th>\n",
       "      <td>0.100694</td>\n",
       "    </tr>\n",
       "    <tr>\n",
       "      <th>1986-03-17</th>\n",
       "      <td>0.102431</td>\n",
       "    </tr>\n",
       "    <tr>\n",
       "      <th>1986-03-18</th>\n",
       "      <td>0.099826</td>\n",
       "    </tr>\n",
       "    <tr>\n",
       "      <th>1986-03-19</th>\n",
       "      <td>0.098090</td>\n",
       "    </tr>\n",
       "  </tbody>\n",
       "</table>\n",
       "</div>"
      ],
      "text/plain": [
       "               Close\n",
       "Date                \n",
       "1986-03-13  0.097222\n",
       "1986-03-14  0.100694\n",
       "1986-03-17  0.102431\n",
       "1986-03-18  0.099826\n",
       "1986-03-19  0.098090"
      ]
     },
     "execution_count": 7,
     "metadata": {},
     "output_type": "execute_result"
    }
   ],
   "source": [
    "# set the index is Date column\n",
    "df1.index = df1.pop('Date')\n",
    "df1.head()"
   ]
  },
  {
   "cell_type": "code",
   "execution_count": 8,
   "id": "3a4e07f5",
   "metadata": {},
   "outputs": [
    {
     "data": {
      "image/png": "[encoded data removed]",
      "text/plain": [
       "<Figure size 1080x432 with 1 Axes>"
      ]
     },
     "metadata": {
      "needs_background": "light"
     },
     "output_type": "display_data"
    }
   ],
   "source": [
    "# plot\n",
    "plt.figure(figsize = (15,6))\n",
    "plt.plot(df.index,df['Open'],label = 'Open')\n",
    "plt.plot(df.index,df['Close'],label = 'Close')\n",
    "plt.plot(df.index,df['High'],label = 'High')\n",
    "plt.plot(df.index,df['Low'],label = 'Low')\n",
    "plt.legend()\n",
    "plt.title('stock-price')\n",
    "plt.savefig('./imgs/MSFT-stock-price.png')\n",
    "plt.show()"
   ]
  },
  {
   "cell_type": "code",
   "execution_count": 9,
   "id": "7f825022",
   "metadata": {},
   "outputs": [
    {
     "data": {
      "image/png": "[encoded data removed]",
      "text/plain": [
       "<Figure size 1080x432 with 1 Axes>"
      ]
     },
     "metadata": {
      "needs_background": "light"
     },
     "output_type": "display_data"
    }
   ],
   "source": [
    "plt.figure(figsize = (15,6))\n",
    "plt.plot(df.index,df['Volume'],label = 'Volume')\n",
    "plt.legend()\n",
    "plt.title('stock-volume')\n",
    "plt.savefig('./imgs/MSFT-stock-volume.png')\n",
    "plt.show()"
   ]
  },
  {
   "cell_type": "markdown",
   "id": "349ba017",
   "metadata": {},
   "source": [
    "We will forcus on 'Close' price"
   ]
  },
  {
   "cell_type": "code",
   "execution_count": 10,
   "id": "b35389a4",
   "metadata": {},
   "outputs": [
    {
     "data": {
      "text/plain": [
       "count    9137.000000\n",
       "mean       42.741320\n",
       "std        62.281374\n",
       "min         0.090278\n",
       "25%         4.414063\n",
       "50%        26.879999\n",
       "75%        40.468750\n",
       "max       343.109985\n",
       "Name: Close, dtype: float64"
      ]
     },
     "execution_count": 10,
     "metadata": {},
     "output_type": "execute_result"
    }
   ],
   "source": [
    "df1['Close'].describe()"
   ]
  },
  {
   "cell_type": "code",
   "execution_count": 11,
   "id": "44610781",
   "metadata": {},
   "outputs": [
    {
     "data": {
      "text/html": [
       "<div>\n",
       "<style scoped>\n",
       "    .dataframe tbody tr th:only-of-type {\n",
       "        vertical-align: middle;\n",
       "    }\n",
       "\n",
       "    .dataframe tbody tr th {\n",
       "        vertical-align: top;\n",
       "    }\n",
       "\n",
       "    .dataframe thead th {\n",
       "        text-align: right;\n",
       "    }\n",
       "</style>\n",
       "<table border=\"1\" class=\"dataframe\">\n",
       "  <thead>\n",
       "    <tr style=\"text-align: right;\">\n",
       "      <th></th>\n",
       "      <th>Close</th>\n",
       "    </tr>\n",
       "    <tr>\n",
       "      <th>Date</th>\n",
       "      <th></th>\n",
       "    </tr>\n",
       "  </thead>\n",
       "  <tbody>\n",
       "    <tr>\n",
       "      <th>2013-01-29</th>\n",
       "      <td>28.010000</td>\n",
       "    </tr>\n",
       "    <tr>\n",
       "      <th>2013-01-30</th>\n",
       "      <td>27.850000</td>\n",
       "    </tr>\n",
       "    <tr>\n",
       "      <th>2013-01-31</th>\n",
       "      <td>27.450001</td>\n",
       "    </tr>\n",
       "    <tr>\n",
       "      <th>2013-02-01</th>\n",
       "      <td>27.930000</td>\n",
       "    </tr>\n",
       "  </tbody>\n",
       "</table>\n",
       "</div>"
      ],
      "text/plain": [
       "                Close\n",
       "Date                 \n",
       "2013-01-29  28.010000\n",
       "2013-01-30  27.850000\n",
       "2013-01-31  27.450001\n",
       "2013-02-01  27.930000"
      ]
     },
     "execution_count": 11,
     "metadata": {},
     "output_type": "execute_result"
    }
   ],
   "source": [
    "df_subset = df1.loc[:str_to_datetime('2013-2-01')].tail(3+1)\n",
    "df_subset"
   ]
  },
  {
   "cell_type": "code",
   "execution_count": 12,
   "id": "28f3e67b",
   "metadata": {},
   "outputs": [
    {
     "name": "stdout",
     "output_type": "stream",
     "text": [
      "[28.01     27.85     27.450001]\n",
      "27.93\n"
     ]
    }
   ],
   "source": [
    "values = df_subset['Close'].to_numpy()\n",
    "x,y = values[:-1],values[-1]\n",
    "print(x)\n",
    "print(y)"
   ]
  },
  {
   "cell_type": "code",
   "execution_count": 13,
   "id": "647b491d",
   "metadata": {},
   "outputs": [
    {
     "data": {
      "text/html": [
       "<div>\n",
       "<style scoped>\n",
       "    .dataframe tbody tr th:only-of-type {\n",
       "        vertical-align: middle;\n",
       "    }\n",
       "\n",
       "    .dataframe tbody tr th {\n",
       "        vertical-align: top;\n",
       "    }\n",
       "\n",
       "    .dataframe thead th {\n",
       "        text-align: right;\n",
       "    }\n",
       "</style>\n",
       "<table border=\"1\" class=\"dataframe\">\n",
       "  <thead>\n",
       "    <tr style=\"text-align: right;\">\n",
       "      <th></th>\n",
       "      <th>Close</th>\n",
       "    </tr>\n",
       "    <tr>\n",
       "      <th>Date</th>\n",
       "      <th></th>\n",
       "    </tr>\n",
       "  </thead>\n",
       "  <tbody>\n",
       "    <tr>\n",
       "      <th>2013-02-01</th>\n",
       "      <td>27.930000</td>\n",
       "    </tr>\n",
       "    <tr>\n",
       "      <th>2013-02-04</th>\n",
       "      <td>27.440001</td>\n",
       "    </tr>\n",
       "    <tr>\n",
       "      <th>2013-02-05</th>\n",
       "      <td>27.500000</td>\n",
       "    </tr>\n",
       "    <tr>\n",
       "      <th>2013-02-06</th>\n",
       "      <td>27.340000</td>\n",
       "    </tr>\n",
       "    <tr>\n",
       "      <th>2013-02-07</th>\n",
       "      <td>27.280001</td>\n",
       "    </tr>\n",
       "    <tr>\n",
       "      <th>2013-02-08</th>\n",
       "      <td>27.549999</td>\n",
       "    </tr>\n",
       "  </tbody>\n",
       "</table>\n",
       "</div>"
      ],
      "text/plain": [
       "                Close\n",
       "Date                 \n",
       "2013-02-01  27.930000\n",
       "2013-02-04  27.440001\n",
       "2013-02-05  27.500000\n",
       "2013-02-06  27.340000\n",
       "2013-02-07  27.280001\n",
       "2013-02-08  27.549999"
      ]
     },
     "execution_count": 13,
     "metadata": {},
     "output_type": "execute_result"
    }
   ],
   "source": [
    "next_week = df1.loc[str_to_datetime('2013-2-01'):str_to_datetime('2013-2-01')+datetime.timedelta(days = 7)]\n",
    "next_week"
   ]
  },
  {
   "cell_type": "code",
   "execution_count": 14,
   "id": "53465070",
   "metadata": {},
   "outputs": [
    {
     "name": "stdout",
     "output_type": "stream",
     "text": [
      "2013-02-04T00:00:00.000000000\n"
     ]
    }
   ],
   "source": [
    "next_datetime_str = str(next_week.head(2).tail(1).index.values[0])\n",
    "print(next_datetime_str)"
   ]
  },
  {
   "cell_type": "code",
   "execution_count": 15,
   "id": "56004179",
   "metadata": {},
   "outputs": [
    {
     "data": {
      "text/plain": [
       "'2013-02-04'"
      ]
     },
     "execution_count": 15,
     "metadata": {},
     "output_type": "execute_result"
    }
   ],
   "source": [
    "next_date_str = next_datetime_str.split('T')[0]\n",
    "next_date_str"
   ]
  },
  {
   "cell_type": "code",
   "execution_count": 16,
   "id": "7c07f643",
   "metadata": {},
   "outputs": [
    {
     "data": {
      "text/plain": [
       "['2013', '02', '04']"
      ]
     },
     "execution_count": 16,
     "metadata": {},
     "output_type": "execute_result"
    }
   ],
   "source": [
    "year_month_day = next_date_str.split('-')\n",
    "year_month_day"
   ]
  },
  {
   "cell_type": "code",
   "execution_count": 17,
   "id": "e5c5868f",
   "metadata": {},
   "outputs": [
    {
     "data": {
      "text/html": [
       "<div>\n",
       "<style scoped>\n",
       "    .dataframe tbody tr th:only-of-type {\n",
       "        vertical-align: middle;\n",
       "    }\n",
       "\n",
       "    .dataframe tbody tr th {\n",
       "        vertical-align: top;\n",
       "    }\n",
       "\n",
       "    .dataframe thead th {\n",
       "        text-align: right;\n",
       "    }\n",
       "</style>\n",
       "<table border=\"1\" class=\"dataframe\">\n",
       "  <thead>\n",
       "    <tr style=\"text-align: right;\">\n",
       "      <th></th>\n",
       "      <th>Close</th>\n",
       "    </tr>\n",
       "    <tr>\n",
       "      <th>Date</th>\n",
       "      <th></th>\n",
       "    </tr>\n",
       "  </thead>\n",
       "  <tbody>\n",
       "    <tr>\n",
       "      <th>2021-03-22</th>\n",
       "      <td>235.990005</td>\n",
       "    </tr>\n",
       "    <tr>\n",
       "      <th>2021-03-23</th>\n",
       "      <td>237.580002</td>\n",
       "    </tr>\n",
       "    <tr>\n",
       "      <th>2021-03-24</th>\n",
       "      <td>235.460007</td>\n",
       "    </tr>\n",
       "    <tr>\n",
       "      <th>2021-03-25</th>\n",
       "      <td>232.339996</td>\n",
       "    </tr>\n",
       "  </tbody>\n",
       "</table>\n",
       "</div>"
      ],
      "text/plain": [
       "                 Close\n",
       "Date                  \n",
       "2021-03-22  235.990005\n",
       "2021-03-23  237.580002\n",
       "2021-03-24  235.460007\n",
       "2021-03-25  232.339996"
      ]
     },
     "execution_count": 17,
     "metadata": {},
     "output_type": "execute_result"
    }
   ],
   "source": [
    "df_subset = df1.loc[:str_to_datetime('2021-03-25')].tail(3+1) # go back from target-date n samples\n",
    "df_subset"
   ]
  },
  {
   "cell_type": "code",
   "execution_count": 18,
   "id": "049f8d3d",
   "metadata": {},
   "outputs": [],
   "source": [
    "def df_to_windowed_df(dataframe,first_date_str,last_date_str,n =3):\n",
    "    '''\n",
    "    create a sub-dataframe from a start-time back to n previous samples\n",
    "    '''\n",
    "    first_date = str_to_datetime(first_date_str)\n",
    "    last_date = str_to_datetime(last_date_str)\n",
    "    \n",
    "    target_date = first_date\n",
    "    dates = []\n",
    "    X,Y = [],[]\n",
    "    \n",
    "    last_time = False\n",
    "    \n",
    "    while True:\n",
    "        \n",
    "        print(f'target_date: {target_date} last_date: {last_date}')\n",
    "        \n",
    "        df_subset = dataframe.loc[:target_date].tail(n+1) # go back from target-date n samples\n",
    "        \n",
    "        if len(df_subset) != n+1:\n",
    "            print(f'Error: Window of size {n} is too large for date {target_date}')\n",
    "            return \n",
    "        \n",
    "        values = df_subset['Close'].to_numpy()\n",
    "        x,y = values[:-1],values[-1]\n",
    "        \n",
    "        dates.append(target_date)\n",
    "        X.append(x)\n",
    "        Y.append(Y)\n",
    "        \n",
    "        next_week = dataframe.loc[target_date:target_date+datetime.timedelta(days = 7)]\n",
    "        next_datetime_str = str(next_week.head(2).tail(1).index.values[0])\n",
    "        next_date_str = next_datetime_str.split('T')[0]\n",
    "        year_month_day = next_date_str.split('-')\n",
    "        year,month,day = year_month_day\n",
    "        next_date = datetime.datetime(year = int(year),month =int(month),day = int(day))\n",
    "        print(f'next_date: {next_date}')\n",
    "        \n",
    "        if last_time:\n",
    "            break\n",
    "        \n",
    "        target_date = next_date\n",
    "        \n",
    "        if target_date == last_date:\n",
    "            last_time = True\n",
    "            \n",
    "    ret_df = pd.DataFrame({})\n",
    "    ret_df['Target Date'] = dates\n",
    "\n",
    "    X = np.array(X)\n",
    "    for i in range(0,n):\n",
    "        X[:,i]\n",
    "        ret_df[f'Target-{n-i}'] = X[:,i]\n",
    "    ret_df['Target'] = Y\n",
    "\n",
    "    return ret_df"
   ]
  },
  {
   "cell_type": "code",
   "execution_count": null,
   "id": "88d3ec61",
   "metadata": {},
   "outputs": [],
   "source": [
    "# Start day second time around: '2021-03-25'\n",
    "\n",
    "windowed_df = df_to_windowed_df(df1, '2022-02-25', '2022-03-23', n=3)\n",
    "windowed_df"
   ]
  },
  {
   "cell_type": "markdown",
   "id": "17392ea6",
   "metadata": {},
   "source": [
    "**4/ build model**"
   ]
  },
  {
   "cell_type": "markdown",
   "id": "28d38ac5",
   "metadata": {},
   "source": [
    "**5/ train model**"
   ]
  },
  {
   "cell_type": "markdown",
   "id": "6c97e824",
   "metadata": {},
   "source": [
    "**6/ evaluate model**"
   ]
  },
  {
   "cell_type": "markdown",
   "id": "c435866c",
   "metadata": {},
   "source": [
    "**7/ save and load model**"
   ]
  },
  {
   "cell_type": "markdown",
   "id": "a078d985",
   "metadata": {},
   "source": [
    "**8/ predict new-input**"
   ]
  }
 ],
 "metadata": {
  "kernelspec": {
   "display_name": "Python 3",
   "language": "python",
   "name": "python3"
  },
  "language_info": {
   "codemirror_mode": {
    "name": "ipython",
    "version": 3
   },
   "file_extension": ".py",
   "mimetype": "text/x-python",
   "name": "python",
   "nbconvert_exporter": "python",
   "pygments_lexer": "ipython3",
   "version": "3.8.8"
  }
 },
 "nbformat": 4,
 "nbformat_minor": 5
}
